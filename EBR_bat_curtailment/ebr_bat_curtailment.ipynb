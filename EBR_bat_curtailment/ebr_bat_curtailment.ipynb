{
 "cells": [
  {
   "cell_type": "code",
   "execution_count": 1,
   "id": "initial_id",
   "metadata": {
    "ExecuteTime": {
     "end_time": "2024-05-06T13:05:57.510708200Z",
     "start_time": "2024-05-06T13:05:56.217046600Z"
    },
    "collapsed": true,
    "jupyter": {
     "outputs_hidden": true
    }
   },
   "outputs": [],
   "source": [
    "import pandas as pd\n",
    "from datetime import timedelta, datetime\n",
    "import numpy as np"
   ]
  },
  {
   "cell_type": "code",
   "execution_count": 2,
   "id": "59bf1c86a055b86e",
   "metadata": {
    "ExecuteTime": {
     "end_time": "2024-05-03T19:38:10.290437800Z",
     "start_time": "2024-05-03T19:38:10.274485100Z"
    },
    "collapsed": false
   },
   "outputs": [],
   "source": [
    "def get_dataframe(path: str) -> pd.DataFrame:\n",
    "    df = pd.read_csv(path, engine='pyarrow')\n",
    "    df['TimeStamp'] = pd.to_datetime(df['TimeStamp'], format=' %d/%m/%Y %H:%M')\n",
    "    df.set_index(['TimeStamp', 'Name'], inplace=True)\n",
    "    df.dropna(inplace=True)\n",
    "    return df"
   ]
  },
  {
   "cell_type": "code",
   "execution_count": 3,
   "id": "9d77f53f271143b2",
   "metadata": {
    "ExecuteTime": {
     "end_time": "2024-05-03T19:38:10.292431Z",
     "start_time": "2024-05-03T19:38:10.281473600Z"
    },
    "collapsed": false
   },
   "outputs": [],
   "source": [
    "def get_sun_dataframe(path: str) -> pd.DataFrame:\n",
    "    df = pd.read_csv(path, engine='pyarrow', \n",
    "                     usecols=['Date', 'End Curtailment', 'Start Curtailment'],\n",
    "                     dtype={'Date': 'datetime64[ns]',\n",
    "                            'End Curtailment': 'str',\n",
    "                            'Start Curtailment': 'str'})\n",
    "    \n",
    "    df['Date'] = pd.to_datetime(df['Date'], format=\"%d-%b-%y\")\n",
    "    df.set_index('Date', inplace=True)\n",
    "    for column in ['Start Curtailment', 'End Curtailment']:\n",
    "        df[column] = pd.to_datetime(df[column], format='%H:%M', errors='coerce').fillna(pd.to_datetime(df[column], format='%H:%M:%S', errors='coerce')).dt.time\n",
    "\n",
    "    return df"
   ]
  },
  {
   "cell_type": "code",
   "execution_count": 4,
   "id": "d93fe3f21a3ee0a8",
   "metadata": {
    "ExecuteTime": {
     "end_time": "2024-05-03T19:38:10.296429200Z",
     "start_time": "2024-05-03T19:38:10.292431Z"
    },
    "collapsed": false
   },
   "outputs": [],
   "source": [
    "def get_temp_dataframe(path: str) -> pd.DataFrame:\n",
    "    df = pd.read_csv(path, engine='pyarrow')\n",
    "    df['TimeStamp'] = pd.to_datetime(df['TimeStamp'], format=' %d/%m/%Y %H:%M')\n",
    "    df.set_index(['TimeStamp'], inplace=True)\n",
    "    df.dropna(inplace=True)\n",
    "    return df"
   ]
  },
  {
   "cell_type": "code",
   "execution_count": 5,
   "id": "3f6bc4e1008eb3a6",
   "metadata": {
    "ExecuteTime": {
     "end_time": "2024-05-03T19:38:10.329361400Z",
     "start_time": "2024-05-03T19:38:10.301413200Z"
    },
    "collapsed": false
   },
   "outputs": [],
   "source": [
    "def add_sun_info(general_df: pd.DataFrame, sun_df: pd.DataFrame) -> pd.DataFrame:\n",
    "    general_df[\"Day_Month\"] = general_df.index.get_level_values(0).strftime('%m-%d')\n",
    "    sun_df[\"Day_Month\"] = sun_df.index.get_level_values(0).strftime('%m-%d')\n",
    "    return general_df.reset_index().merge(sun_df, on='Day_Month', how='inner').set_index(['TimeStamp', 'Name']).drop(columns=['Day_Month'])"
   ]
  },
  {
   "cell_type": "code",
   "execution_count": 6,
   "id": "aa9de67fe7a896a7",
   "metadata": {
    "ExecuteTime": {
     "end_time": "2024-05-03T19:38:10.330546200Z",
     "start_time": "2024-05-03T19:38:10.310882500Z"
    },
    "collapsed": false
   },
   "outputs": [],
   "source": [
    "def add_loss_column(df: pd.DataFrame, start_date: str, end_date: str) -> pd.DataFrame:\n",
    "    start_date = datetime.strptime(start_date, '%Y-%m-%d')\n",
    "    end_date = datetime.strptime(end_date, '%Y-%m-%d')\n",
    "    df['In Timeframe'] = df.index.get_level_values(0).to_series().between(start_date, end_date).to_numpy()\n",
    "    return df"
   ]
  },
  {
   "cell_type": "code",
   "execution_count": 7,
   "id": "2932b45be2c5da32",
   "metadata": {
    "ExecuteTime": {
     "end_time": "2024-05-03T19:38:10.332054Z",
     "start_time": "2024-05-03T19:38:10.321253700Z"
    },
    "collapsed": false
   },
   "outputs": [],
   "source": [
    "def add_night_column(df_general: pd.DataFrame) -> pd.DataFrame:\n",
    "    dt = pd.Series(df_general.index.get_level_values(0))\n",
    "    dt_from = dt - pd.Timedelta(minutes=10)\n",
    "\n",
    "    dt = dt.dt.time.to_numpy()\n",
    "    dt_from = dt_from.dt.time.to_numpy()\n",
    "    \n",
    "    start_curt = df_general['Start Curtailment'].to_numpy()\n",
    "    end_curt = df_general['End Curtailment'].to_numpy()\n",
    "    \n",
    "    mask = np.where(start_curt > end_curt,\n",
    "                ((start_curt <= dt) | (dt_from <= end_curt)),\n",
    "                ((start_curt <= dt) & (dt_from <= end_curt)))\n",
    "    \n",
    "    df_general['Night'] = mask\n",
    "    return df_general"
   ]
  },
  {
   "cell_type": "code",
   "execution_count": 8,
   "id": "a38cb20b1e4fe400",
   "metadata": {
    "ExecuteTime": {
     "end_time": "2024-05-03T19:38:10.351412600Z",
     "start_time": "2024-05-03T19:38:10.331052100Z"
    },
    "collapsed": false
   },
   "outputs": [],
   "source": [
    "def add_wind_column(df_general: pd.DataFrame, wind_thres: float) -> pd.DataFrame:\n",
    "    df_general['Below Wind'] = df_general['WindSpeed'] < wind_thres\n",
    "    return df_general"
   ]
  },
  {
   "cell_type": "code",
   "execution_count": 9,
   "id": "ac4318a9a5434794",
   "metadata": {
    "ExecuteTime": {
     "end_time": "2024-05-03T19:38:10.381330800Z",
     "start_time": "2024-05-03T19:38:10.340927200Z"
    },
    "collapsed": false
   },
   "outputs": [],
   "source": [
    "def add_temps_columns(df_general: pd.DataFrame, df_temp: pd.DataFrame, low: float=0, high: float=40) -> pd.DataFrame:\n",
    "    merged_df = pd.merge(df_general, df_temp, left_index=True, right_index= True, how='inner')\n",
    "    merged_df['In Thres Temp'] = (merged_df['Temp'] >= low) & (merged_df['Temp'] <= high)\n",
    "    return merged_df"
   ]
  },
  {
   "cell_type": "code",
   "execution_count": 2,
   "id": "ebf19e41425b80f",
   "metadata": {
    "collapsed": false,
    "ExecuteTime": {
     "end_time": "2024-05-06T13:43:08.666025300Z",
     "start_time": "2024-05-06T13:43:08.657087900Z"
    }
   },
   "outputs": [],
   "source": [
    "def calculate_loss(processed_df: pd.DataFrame) -> (pd.DataFrame, pd.DataFrame):\n",
    "    lost_df = processed_df[processed_df['Night'] & processed_df['Below Wind'] & processed_df['In Timeframe'] & processed_df['In Thres Temp']]\n",
    "    produced_df = processed_df[~(processed_df['Night'] & processed_df['Below Wind'] & processed_df['In Timeframe'] & processed_df['In Thres Temp'])]\n",
    "    lost_df = lost_df[lost_df['ActivePower'] > 0]\n",
    "    lost_df['Energy'] = lost_df['Energy'] + 40\n",
    "    return lost_df, produced_df"
   ]
  },
  {
   "cell_type": "code",
   "execution_count": 29,
   "id": "e1ab88ea9bf29a2",
   "metadata": {
    "ExecuteTime": {
     "end_time": "2024-05-03T19:43:00.139752800Z",
     "start_time": "2024-05-03T19:43:00.113796600Z"
    },
    "collapsed": false
   },
   "outputs": [
    {
     "data": {
      "text/plain": [
       "Name\n",
       "T01     5118035\n",
       "T02     4942576\n",
       "T03     5027908\n",
       "T05     5126060\n",
       "T06     5214020\n",
       "T09    10632182\n",
       "Name: Energy, dtype: int64"
      ]
     },
     "execution_count": 29,
     "metadata": {},
     "output_type": "execute_result"
    }
   ],
   "source": [
    "def main():\n",
    "    test = get_dataframe(r'2022.csv')\n",
    "    date_test = get_sun_dataframe(r'EBR_sun.csv')\n",
    "    temps_test = get_temp_dataframe(r'2022_temp.csv')\n",
    "    test = add_loss_column(test, \"2022-05-01\", \"2022-06-01\")\n",
    "    test = add_sun_info(test, date_test)\n",
    "    test = add_night_column(test)\n",
    "    test = add_wind_column(test, wind_thres=5)\n",
    "    test = add_temps_columns(test, temps_test)\n",
    "    test_lost, test_produced = calculate_loss(test)\n",
    "    test_lost['Energy'].groupby(level=1).aggregate('sum')\n",
    "    test_produced['Energy'].groupby(level=1).aggregate('sum')"
   ]
  },
  {
   "cell_type": "code",
   "execution_count": null,
   "id": "9d380eda063bbda6",
   "metadata": {
    "collapsed": false
   },
   "outputs": [],
   "source": [
    "if __name__ == '__main__':\n",
    "    main()"
   ]
  }
 ],
 "metadata": {
  "kernelspec": {
   "display_name": "Python 3 (ipykernel)",
   "language": "python",
   "name": "python3"
  },
  "language_info": {
   "codemirror_mode": {
    "name": "ipython",
    "version": 3
   },
   "file_extension": ".py",
   "mimetype": "text/x-python",
   "name": "python",
   "nbconvert_exporter": "python",
   "pygments_lexer": "ipython3",
   "version": "3.12.1"
  }
 },
 "nbformat": 4,
 "nbformat_minor": 5
}
